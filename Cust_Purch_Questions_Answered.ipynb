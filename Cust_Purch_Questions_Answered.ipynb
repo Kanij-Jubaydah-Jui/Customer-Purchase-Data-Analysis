{
 "cells": [
  {
   "cell_type": "markdown",
   "id": "97156526-f918-46b3-9e0a-b5d2f309fbb1",
   "metadata": {},
   "source": [
    "# \"Cust Purch Dataset Questions Answered\""
   ]
  },
  {
   "cell_type": "markdown",
   "id": "07659e4e-3152-453a-9278-426670e1ecc4",
   "metadata": {},
   "source": [
    "## Import Pandas and Read the csv file."
   ]
  },
  {
   "cell_type": "code",
   "execution_count": 3,
   "id": "8a8c5c41-e16a-477c-8794-f75f2e398154",
   "metadata": {},
   "outputs": [],
   "source": [
    "import pandas as pd\n",
    "cust = pd.read_csv('Cust_Purch_FakeData.csv')"
   ]
  },
  {
   "cell_type": "markdown",
   "id": "0f278588-5410-45da-885d-958caf555683",
   "metadata": {},
   "source": [
    "## 1. How many entries does your data have? Can you tell the number of columns in your data?"
   ]
  },
  {
   "cell_type": "code",
   "execution_count": 5,
   "id": "6cf4543a-557d-4bf2-b370-86639edfbd22",
   "metadata": {},
   "outputs": [
    {
     "name": "stdout",
     "output_type": "stream",
     "text": [
      "Number of entries (rows): 30000\n",
      "Number of columns: 20\n"
     ]
    }
   ],
   "source": [
    "print(\"Number of entries (rows):\", cust.shape[0])\n",
    "print(\"Number of columns:\", cust.shape[1])"
   ]
  },
  {
   "cell_type": "markdown",
   "id": "71f55d9a-dac4-4047-8c7c-ac57079474d8",
   "metadata": {},
   "source": [
    "## 2. What are the max and min ages of your customer? Can you find the mean of your customer?"
   ]
  },
  {
   "cell_type": "code",
   "execution_count": 6,
   "id": "bd448b6a-b284-4fff-b4ac-508d6910c048",
   "metadata": {},
   "outputs": [
    {
     "name": "stdout",
     "output_type": "stream",
     "text": [
      "Max age: 65\n",
      "Min age: 18\n",
      "Mean age: 41.550066666666666\n"
     ]
    }
   ],
   "source": [
    "print(\"Max age:\", cust['age'].max())\n",
    "print(\"Min age:\", cust['age'].min())\n",
    "print(\"Mean age:\", cust['age'].mean())"
   ]
  },
  {
   "cell_type": "markdown",
   "id": "20aa7872-cdba-4178-98fe-0eae213356a1",
   "metadata": {},
   "source": [
    "## 3. What are the three most common customer's names?"
   ]
  },
  {
   "cell_type": "code",
   "execution_count": 7,
   "id": "51a55d42-455a-41d7-a1aa-84f921ce1c92",
   "metadata": {},
   "outputs": [
    {
     "data": {
      "text/plain": [
       "first\n",
       "Willie     130\n",
       "Francis    124\n",
       "Eula        86\n",
       "Name: count, dtype: int64"
      ]
     },
     "execution_count": 7,
     "metadata": {},
     "output_type": "execute_result"
    }
   ],
   "source": [
    "cust['first'].value_counts().head(3)"
   ]
  },
  {
   "cell_type": "markdown",
   "id": "49676a1a-52eb-4f29-83cb-d82fe457df8b",
   "metadata": {},
   "source": [
    "## 4. Two customers have the same phone number, can you find those customers?"
   ]
  },
  {
   "cell_type": "code",
   "execution_count": 8,
   "id": "3a289ebf-9228-450d-b3e2-e3a60be3c6db",
   "metadata": {},
   "outputs": [
    {
     "data": {
      "text/html": [
       "<div>\n",
       "<style scoped>\n",
       "    .dataframe tbody tr th:only-of-type {\n",
       "        vertical-align: middle;\n",
       "    }\n",
       "\n",
       "    .dataframe tbody tr th {\n",
       "        vertical-align: top;\n",
       "    }\n",
       "\n",
       "    .dataframe thead th {\n",
       "        text-align: right;\n",
       "    }\n",
       "</style>\n",
       "<table border=\"1\" class=\"dataframe\">\n",
       "  <thead>\n",
       "    <tr style=\"text-align: right;\">\n",
       "      <th></th>\n",
       "      <th>prefix</th>\n",
       "      <th>first</th>\n",
       "      <th>last</th>\n",
       "      <th>email</th>\n",
       "      <th>gender</th>\n",
       "      <th>age</th>\n",
       "      <th>company</th>\n",
       "      <th>profession</th>\n",
       "      <th>phone</th>\n",
       "      <th>postal</th>\n",
       "      <th>province</th>\n",
       "      <th>cc_no</th>\n",
       "      <th>cc_exp</th>\n",
       "      <th>cc_type</th>\n",
       "      <th>price(CAD)</th>\n",
       "      <th>fav_color</th>\n",
       "      <th>ip</th>\n",
       "      <th>weekday</th>\n",
       "      <th>ampm</th>\n",
       "      <th>date</th>\n",
       "    </tr>\n",
       "  </thead>\n",
       "  <tbody>\n",
       "    <tr>\n",
       "      <th>15</th>\n",
       "      <td>Mrs.</td>\n",
       "      <td>Lilly</td>\n",
       "      <td>Tyler</td>\n",
       "      <td>kofadu@itohi.tf</td>\n",
       "      <td>Female</td>\n",
       "      <td>38</td>\n",
       "      <td>CSX Corp.</td>\n",
       "      <td>Structural Engineer</td>\n",
       "      <td>(263) 382-8004</td>\n",
       "      <td>V7K 1E3</td>\n",
       "      <td>ON</td>\n",
       "      <td>30000000000000</td>\n",
       "      <td>11/2022</td>\n",
       "      <td>Diners Club Carte Blanche</td>\n",
       "      <td>9.61</td>\n",
       "      <td>Yellow</td>\n",
       "      <td>74.124.37.227</td>\n",
       "      <td>Saturday</td>\n",
       "      <td>am</td>\n",
       "      <td>03/30/1985</td>\n",
       "    </tr>\n",
       "    <tr>\n",
       "      <th>16</th>\n",
       "      <td>Mrs.</td>\n",
       "      <td>Peter</td>\n",
       "      <td>Cain</td>\n",
       "      <td>megkosig@anazeor.gn</td>\n",
       "      <td>Male</td>\n",
       "      <td>27</td>\n",
       "      <td>Campbell Soup Co.</td>\n",
       "      <td>Insurance Adjuster</td>\n",
       "      <td>(263) 382-8004</td>\n",
       "      <td>E8T 2B4</td>\n",
       "      <td>YT</td>\n",
       "      <td>3530000000000000</td>\n",
       "      <td>03/2024</td>\n",
       "      <td>Solo</td>\n",
       "      <td>13.74</td>\n",
       "      <td>Black</td>\n",
       "      <td>25.207.141.135</td>\n",
       "      <td>Tuesday</td>\n",
       "      <td>am</td>\n",
       "      <td>08/05/1950</td>\n",
       "    </tr>\n",
       "  </tbody>\n",
       "</table>\n",
       "</div>"
      ],
      "text/plain": [
       "   prefix  first   last                email  gender  age            company  \\\n",
       "15   Mrs.  Lilly  Tyler      kofadu@itohi.tf  Female   38          CSX Corp.   \n",
       "16   Mrs.  Peter   Cain  megkosig@anazeor.gn    Male   27  Campbell Soup Co.   \n",
       "\n",
       "             profession           phone   postal province             cc_no  \\\n",
       "15  Structural Engineer  (263) 382-8004  V7K 1E3       ON    30000000000000   \n",
       "16   Insurance Adjuster  (263) 382-8004  E8T 2B4       YT  3530000000000000   \n",
       "\n",
       "     cc_exp                    cc_type  price(CAD) fav_color              ip  \\\n",
       "15  11/2022  Diners Club Carte Blanche        9.61    Yellow   74.124.37.227   \n",
       "16  03/2024                       Solo       13.74     Black  25.207.141.135   \n",
       "\n",
       "     weekday ampm        date  \n",
       "15  Saturday   am  03/30/1985  \n",
       "16   Tuesday   am  08/05/1950  "
      ]
     },
     "execution_count": 8,
     "metadata": {},
     "output_type": "execute_result"
    }
   ],
   "source": [
    "same_phone_number = '(263) 382-8004'\n",
    "cust[cust['phone'] == same_phone_number]"
   ]
  },
  {
   "cell_type": "markdown",
   "id": "00202182-5e8e-427f-affb-af1fdf612f41",
   "metadata": {},
   "source": [
    "## 5. How many customers have the profession \"Structural Engineer\"?"
   ]
  },
  {
   "cell_type": "code",
   "execution_count": 9,
   "id": "b2be072d-208e-4c08-95e6-9d207ae9f2af",
   "metadata": {},
   "outputs": [
    {
     "data": {
      "text/plain": [
       "87"
      ]
     },
     "execution_count": 9,
     "metadata": {},
     "output_type": "execute_result"
    }
   ],
   "source": [
    "cust[cust['profession'] == 'Structural Engineer'].shape[0]"
   ]
  },
  {
   "cell_type": "markdown",
   "id": "3698d83f-cd65-4334-bb1a-1c82b42612c2",
   "metadata": {},
   "source": [
    "## 6. How many male customers are 'Structural Engineer'?"
   ]
  },
  {
   "cell_type": "code",
   "execution_count": 10,
   "id": "d6c0b57d-dfd8-4752-85e6-8149131cab5c",
   "metadata": {},
   "outputs": [
    {
     "data": {
      "text/plain": [
       "43"
      ]
     },
     "execution_count": 10,
     "metadata": {},
     "output_type": "execute_result"
    }
   ],
   "source": [
    "cust[(cust['profession'] == 'Structural Engineer') & (cust['gender'] == 'Male')].shape[0]"
   ]
  },
  {
   "cell_type": "markdown",
   "id": "814a5697-09cd-4850-bae7-f81ce19d4136",
   "metadata": {},
   "source": [
    "## 7. Find out the female Structural Engineers from province Alberta (AB)?"
   ]
  },
  {
   "cell_type": "code",
   "execution_count": 11,
   "id": "9ff170ef-8762-43d6-9bd7-93d8bfe5e593",
   "metadata": {},
   "outputs": [
    {
     "data": {
      "text/html": [
       "<div>\n",
       "<style scoped>\n",
       "    .dataframe tbody tr th:only-of-type {\n",
       "        vertical-align: middle;\n",
       "    }\n",
       "\n",
       "    .dataframe tbody tr th {\n",
       "        vertical-align: top;\n",
       "    }\n",
       "\n",
       "    .dataframe thead th {\n",
       "        text-align: right;\n",
       "    }\n",
       "</style>\n",
       "<table border=\"1\" class=\"dataframe\">\n",
       "  <thead>\n",
       "    <tr style=\"text-align: right;\">\n",
       "      <th></th>\n",
       "      <th>prefix</th>\n",
       "      <th>first</th>\n",
       "      <th>last</th>\n",
       "      <th>email</th>\n",
       "      <th>gender</th>\n",
       "      <th>age</th>\n",
       "      <th>company</th>\n",
       "      <th>profession</th>\n",
       "      <th>phone</th>\n",
       "      <th>postal</th>\n",
       "      <th>province</th>\n",
       "      <th>cc_no</th>\n",
       "      <th>cc_exp</th>\n",
       "      <th>cc_type</th>\n",
       "      <th>price(CAD)</th>\n",
       "      <th>fav_color</th>\n",
       "      <th>ip</th>\n",
       "      <th>weekday</th>\n",
       "      <th>ampm</th>\n",
       "      <th>date</th>\n",
       "    </tr>\n",
       "  </thead>\n",
       "  <tbody>\n",
       "    <tr>\n",
       "      <th>8858</th>\n",
       "      <td>Dr.</td>\n",
       "      <td>Roy</td>\n",
       "      <td>Stanley</td>\n",
       "      <td>apiunvo@ehasom.ir</td>\n",
       "      <td>Female</td>\n",
       "      <td>39</td>\n",
       "      <td>Cincinnati Financial Corp.</td>\n",
       "      <td>Structural Engineer</td>\n",
       "      <td>(876) 758-2929</td>\n",
       "      <td>N5A 6L2</td>\n",
       "      <td>AB</td>\n",
       "      <td>6300000000000000</td>\n",
       "      <td>02/2022</td>\n",
       "      <td>InstaPayment</td>\n",
       "      <td>31.86</td>\n",
       "      <td>Red</td>\n",
       "      <td>165.249.159.57</td>\n",
       "      <td>Sunday</td>\n",
       "      <td>pm</td>\n",
       "      <td>12/25/1903</td>\n",
       "    </tr>\n",
       "    <tr>\n",
       "      <th>9058</th>\n",
       "      <td>Mr.</td>\n",
       "      <td>Lora</td>\n",
       "      <td>Kennedy</td>\n",
       "      <td>dennap@rabac.se</td>\n",
       "      <td>Female</td>\n",
       "      <td>51</td>\n",
       "      <td>BJ Services Company</td>\n",
       "      <td>Structural Engineer</td>\n",
       "      <td>(305) 786-6959</td>\n",
       "      <td>N3R 4B7</td>\n",
       "      <td>AB</td>\n",
       "      <td>201000000000000</td>\n",
       "      <td>06/2019</td>\n",
       "      <td>Diners Club United States &amp; Canada</td>\n",
       "      <td>53.29</td>\n",
       "      <td>Black</td>\n",
       "      <td>42.216.243.206</td>\n",
       "      <td>Thursday</td>\n",
       "      <td>pm</td>\n",
       "      <td>06/06/2028</td>\n",
       "    </tr>\n",
       "    <tr>\n",
       "      <th>24736</th>\n",
       "      <td>Mrs.</td>\n",
       "      <td>Nell</td>\n",
       "      <td>Richards</td>\n",
       "      <td>dob@me.ki</td>\n",
       "      <td>Female</td>\n",
       "      <td>18</td>\n",
       "      <td>Telephone &amp; Data Systems Inc</td>\n",
       "      <td>Structural Engineer</td>\n",
       "      <td>(262) 681-5018</td>\n",
       "      <td>N3Y 3G2</td>\n",
       "      <td>AB</td>\n",
       "      <td>347000000000000</td>\n",
       "      <td>07/2028</td>\n",
       "      <td>American Express</td>\n",
       "      <td>76.28</td>\n",
       "      <td>Blue</td>\n",
       "      <td>91.16.30.156</td>\n",
       "      <td>Wednesday</td>\n",
       "      <td>pm</td>\n",
       "      <td>07/14/1951</td>\n",
       "    </tr>\n",
       "    <tr>\n",
       "      <th>29865</th>\n",
       "      <td>Mrs.</td>\n",
       "      <td>Don</td>\n",
       "      <td>McDaniel</td>\n",
       "      <td>naf@zudu.bj</td>\n",
       "      <td>Female</td>\n",
       "      <td>37</td>\n",
       "      <td>Anadarko Petroleum Corporation</td>\n",
       "      <td>Structural Engineer</td>\n",
       "      <td>(238) 789-2825</td>\n",
       "      <td>B4A 8Q9</td>\n",
       "      <td>AB</td>\n",
       "      <td>5610000000000000</td>\n",
       "      <td>12/2022</td>\n",
       "      <td>Mastercard</td>\n",
       "      <td>62.71</td>\n",
       "      <td>Blue</td>\n",
       "      <td>162.233.117.142</td>\n",
       "      <td>Sunday</td>\n",
       "      <td>pm</td>\n",
       "      <td>11/03/1989</td>\n",
       "    </tr>\n",
       "  </tbody>\n",
       "</table>\n",
       "</div>"
      ],
      "text/plain": [
       "      prefix first      last              email  gender  age  \\\n",
       "8858     Dr.   Roy   Stanley  apiunvo@ehasom.ir  Female   39   \n",
       "9058     Mr.  Lora   Kennedy    dennap@rabac.se  Female   51   \n",
       "24736   Mrs.  Nell  Richards          dob@me.ki  Female   18   \n",
       "29865   Mrs.   Don  McDaniel        naf@zudu.bj  Female   37   \n",
       "\n",
       "                              company           profession           phone  \\\n",
       "8858       Cincinnati Financial Corp.  Structural Engineer  (876) 758-2929   \n",
       "9058              BJ Services Company  Structural Engineer  (305) 786-6959   \n",
       "24736    Telephone & Data Systems Inc  Structural Engineer  (262) 681-5018   \n",
       "29865  Anadarko Petroleum Corporation  Structural Engineer  (238) 789-2825   \n",
       "\n",
       "        postal province             cc_no   cc_exp  \\\n",
       "8858   N5A 6L2       AB  6300000000000000  02/2022   \n",
       "9058   N3R 4B7       AB   201000000000000  06/2019   \n",
       "24736  N3Y 3G2       AB   347000000000000  07/2028   \n",
       "29865  B4A 8Q9       AB  5610000000000000  12/2022   \n",
       "\n",
       "                                  cc_type  price(CAD) fav_color  \\\n",
       "8858                         InstaPayment       31.86       Red   \n",
       "9058   Diners Club United States & Canada       53.29     Black   \n",
       "24736                    American Express       76.28      Blue   \n",
       "29865                          Mastercard       62.71      Blue   \n",
       "\n",
       "                    ip    weekday ampm        date  \n",
       "8858    165.249.159.57     Sunday   pm  12/25/1903  \n",
       "9058    42.216.243.206   Thursday   pm  06/06/2028  \n",
       "24736     91.16.30.156  Wednesday   pm  07/14/1951  \n",
       "29865  162.233.117.142     Sunday   pm  11/03/1989  "
      ]
     },
     "execution_count": 11,
     "metadata": {},
     "output_type": "execute_result"
    }
   ],
   "source": [
    "cust[(cust['profession'] == 'Structural Engineer') & (cust['gender'] == 'Female') & (cust['province'] == 'AB')]"
   ]
  },
  {
   "cell_type": "markdown",
   "id": "fd449f18-288e-4467-a5b5-6a348e19de8b",
   "metadata": {},
   "source": [
    "## 8. What is the max, min, and average spending?"
   ]
  },
  {
   "cell_type": "code",
   "execution_count": 12,
   "id": "743836c1-b0c7-430b-9e02-23ba75665aab",
   "metadata": {},
   "outputs": [
    {
     "name": "stdout",
     "output_type": "stream",
     "text": [
      "Max spending: 100.0\n",
      "Min spending: 0.0\n",
      "Average spending: 49.990775\n"
     ]
    }
   ],
   "source": [
    "print(\"Max spending:\", cust['price(CAD)'].max())\n",
    "print(\"Min spending:\", cust['price(CAD)'].min())\n",
    "print(\"Average spending:\", cust['price(CAD)'].mean())"
   ]
  },
  {
   "cell_type": "markdown",
   "id": "a127f4ea-d628-49bd-a189-86b2982ff69a",
   "metadata": {},
   "source": [
    "## 9. Who did not spend anything? Company wants to send a deal to encourage the customer to buy stuff!"
   ]
  },
  {
   "cell_type": "code",
   "execution_count": 13,
   "id": "fd47fcfc-79e4-4048-803c-0c2483001497",
   "metadata": {},
   "outputs": [
    {
     "data": {
      "text/html": [
       "<div>\n",
       "<style scoped>\n",
       "    .dataframe tbody tr th:only-of-type {\n",
       "        vertical-align: middle;\n",
       "    }\n",
       "\n",
       "    .dataframe tbody tr th {\n",
       "        vertical-align: top;\n",
       "    }\n",
       "\n",
       "    .dataframe thead th {\n",
       "        text-align: right;\n",
       "    }\n",
       "</style>\n",
       "<table border=\"1\" class=\"dataframe\">\n",
       "  <thead>\n",
       "    <tr style=\"text-align: right;\">\n",
       "      <th></th>\n",
       "      <th>prefix</th>\n",
       "      <th>first</th>\n",
       "      <th>last</th>\n",
       "      <th>email</th>\n",
       "      <th>gender</th>\n",
       "      <th>age</th>\n",
       "      <th>company</th>\n",
       "      <th>profession</th>\n",
       "      <th>phone</th>\n",
       "      <th>postal</th>\n",
       "      <th>province</th>\n",
       "      <th>cc_no</th>\n",
       "      <th>cc_exp</th>\n",
       "      <th>cc_type</th>\n",
       "      <th>price(CAD)</th>\n",
       "      <th>fav_color</th>\n",
       "      <th>ip</th>\n",
       "      <th>weekday</th>\n",
       "      <th>ampm</th>\n",
       "      <th>date</th>\n",
       "    </tr>\n",
       "  </thead>\n",
       "  <tbody>\n",
       "    <tr>\n",
       "      <th>5320</th>\n",
       "      <td>Dr.</td>\n",
       "      <td>Bruce</td>\n",
       "      <td>Bryan</td>\n",
       "      <td>ru@pubuspuh.cl</td>\n",
       "      <td>Male</td>\n",
       "      <td>59</td>\n",
       "      <td>Wal-Mart Stores Inc</td>\n",
       "      <td>Engineer Technician</td>\n",
       "      <td>(709) 446-8317</td>\n",
       "      <td>H6H 3Y0</td>\n",
       "      <td>NU</td>\n",
       "      <td>201000000000000</td>\n",
       "      <td>04/2024</td>\n",
       "      <td>Bankcard</td>\n",
       "      <td>0.0</td>\n",
       "      <td>White</td>\n",
       "      <td>82.70.62.64</td>\n",
       "      <td>Wednesday</td>\n",
       "      <td>am</td>\n",
       "      <td>12/11/1900</td>\n",
       "    </tr>\n",
       "    <tr>\n",
       "      <th>10597</th>\n",
       "      <td>Mrs.</td>\n",
       "      <td>Flora</td>\n",
       "      <td>Clark</td>\n",
       "      <td>wad@me.com</td>\n",
       "      <td>Female</td>\n",
       "      <td>27</td>\n",
       "      <td>MetLife Inc.</td>\n",
       "      <td>Cruise Director</td>\n",
       "      <td>(775) 373-6590</td>\n",
       "      <td>B2U 8K6</td>\n",
       "      <td>NB</td>\n",
       "      <td>30100000000000</td>\n",
       "      <td>05/2020</td>\n",
       "      <td>Diners Club Carte Blanche</td>\n",
       "      <td>0.0</td>\n",
       "      <td>Red</td>\n",
       "      <td>231.156.15.63</td>\n",
       "      <td>Thursday</td>\n",
       "      <td>pm</td>\n",
       "      <td>08/22/1904</td>\n",
       "    </tr>\n",
       "  </tbody>\n",
       "</table>\n",
       "</div>"
      ],
      "text/plain": [
       "      prefix  first   last           email  gender  age              company  \\\n",
       "5320     Dr.  Bruce  Bryan  ru@pubuspuh.cl    Male   59  Wal-Mart Stores Inc   \n",
       "10597   Mrs.  Flora  Clark      wad@me.com  Female   27         MetLife Inc.   \n",
       "\n",
       "                profession           phone   postal province            cc_no  \\\n",
       "5320   Engineer Technician  (709) 446-8317  H6H 3Y0       NU  201000000000000   \n",
       "10597      Cruise Director  (775) 373-6590  B2U 8K6       NB   30100000000000   \n",
       "\n",
       "        cc_exp                    cc_type  price(CAD) fav_color  \\\n",
       "5320   04/2024                   Bankcard         0.0     White   \n",
       "10597  05/2020  Diners Club Carte Blanche         0.0       Red   \n",
       "\n",
       "                  ip    weekday ampm        date  \n",
       "5320     82.70.62.64  Wednesday   am  12/11/1900  \n",
       "10597  231.156.15.63   Thursday   pm  08/22/1904  "
      ]
     },
     "execution_count": 13,
     "metadata": {},
     "output_type": "execute_result"
    }
   ],
   "source": [
    "cust[cust['price(CAD)'] == 0]"
   ]
  },
  {
   "cell_type": "markdown",
   "id": "b845ee10-4ceb-41f6-ab9e-db5ebd71a496",
   "metadata": {},
   "source": [
    "## 10. As a loyalty reward, the company wants to send thanks coupons to those who spent 100 CAD or more. Please find out the customers."
   ]
  },
  {
   "cell_type": "code",
   "execution_count": 14,
   "id": "39c30f94-3b64-4fba-9ea6-492b8e757b3e",
   "metadata": {},
   "outputs": [
    {
     "data": {
      "text/html": [
       "<div>\n",
       "<style scoped>\n",
       "    .dataframe tbody tr th:only-of-type {\n",
       "        vertical-align: middle;\n",
       "    }\n",
       "\n",
       "    .dataframe tbody tr th {\n",
       "        vertical-align: top;\n",
       "    }\n",
       "\n",
       "    .dataframe thead th {\n",
       "        text-align: right;\n",
       "    }\n",
       "</style>\n",
       "<table border=\"1\" class=\"dataframe\">\n",
       "  <thead>\n",
       "    <tr style=\"text-align: right;\">\n",
       "      <th></th>\n",
       "      <th>prefix</th>\n",
       "      <th>first</th>\n",
       "      <th>last</th>\n",
       "      <th>email</th>\n",
       "      <th>gender</th>\n",
       "      <th>age</th>\n",
       "      <th>company</th>\n",
       "      <th>profession</th>\n",
       "      <th>phone</th>\n",
       "      <th>postal</th>\n",
       "      <th>province</th>\n",
       "      <th>cc_no</th>\n",
       "      <th>cc_exp</th>\n",
       "      <th>cc_type</th>\n",
       "      <th>price(CAD)</th>\n",
       "      <th>fav_color</th>\n",
       "      <th>ip</th>\n",
       "      <th>weekday</th>\n",
       "      <th>ampm</th>\n",
       "      <th>date</th>\n",
       "    </tr>\n",
       "  </thead>\n",
       "  <tbody>\n",
       "    <tr>\n",
       "      <th>76</th>\n",
       "      <td>Mrs.</td>\n",
       "      <td>Gregory</td>\n",
       "      <td>Brown</td>\n",
       "      <td>hav@jek.gs</td>\n",
       "      <td>Female</td>\n",
       "      <td>31</td>\n",
       "      <td>E*Trade Group, Inc.</td>\n",
       "      <td>Novelist</td>\n",
       "      <td>(625) 537-8923</td>\n",
       "      <td>X3S 4Q2</td>\n",
       "      <td>PE</td>\n",
       "      <td>6010000000000000</td>\n",
       "      <td>04/2018</td>\n",
       "      <td>Visa</td>\n",
       "      <td>100.0</td>\n",
       "      <td>Green</td>\n",
       "      <td>212.100.18.95</td>\n",
       "      <td>Monday</td>\n",
       "      <td>am</td>\n",
       "      <td>10/23/2063</td>\n",
       "    </tr>\n",
       "    <tr>\n",
       "      <th>21093</th>\n",
       "      <td>Mrs.</td>\n",
       "      <td>Cody</td>\n",
       "      <td>Christensen</td>\n",
       "      <td>get@jovu.ag</td>\n",
       "      <td>Male</td>\n",
       "      <td>28</td>\n",
       "      <td>National City Corp.</td>\n",
       "      <td>Hospital Administrator</td>\n",
       "      <td>(261) 737-3292</td>\n",
       "      <td>X0S 1O5</td>\n",
       "      <td>PE</td>\n",
       "      <td>201000000000000</td>\n",
       "      <td>03/2024</td>\n",
       "      <td>JCB</td>\n",
       "      <td>100.0</td>\n",
       "      <td>Green</td>\n",
       "      <td>168.48.19.165</td>\n",
       "      <td>Wednesday</td>\n",
       "      <td>pm</td>\n",
       "      <td>03/28/1955</td>\n",
       "    </tr>\n",
       "    <tr>\n",
       "      <th>24385</th>\n",
       "      <td>Miss</td>\n",
       "      <td>Lizzie</td>\n",
       "      <td>Dixon</td>\n",
       "      <td>goh@tuwjaz.gd</td>\n",
       "      <td>Female</td>\n",
       "      <td>38</td>\n",
       "      <td>FleetBoston Financial Co.</td>\n",
       "      <td>Compensation Analyst</td>\n",
       "      <td>(989) 239-1752</td>\n",
       "      <td>V8X 9V6</td>\n",
       "      <td>NB</td>\n",
       "      <td>6300000000000000</td>\n",
       "      <td>07/2019</td>\n",
       "      <td>Bankcard</td>\n",
       "      <td>100.0</td>\n",
       "      <td>Blue</td>\n",
       "      <td>140.87.99.78</td>\n",
       "      <td>Saturday</td>\n",
       "      <td>pm</td>\n",
       "      <td>03/03/1983</td>\n",
       "    </tr>\n",
       "  </tbody>\n",
       "</table>\n",
       "</div>"
      ],
      "text/plain": [
       "      prefix    first         last          email  gender  age  \\\n",
       "76      Mrs.  Gregory        Brown     hav@jek.gs  Female   31   \n",
       "21093   Mrs.     Cody  Christensen    get@jovu.ag    Male   28   \n",
       "24385   Miss   Lizzie        Dixon  goh@tuwjaz.gd  Female   38   \n",
       "\n",
       "                         company              profession           phone  \\\n",
       "76           E*Trade Group, Inc.                Novelist  (625) 537-8923   \n",
       "21093        National City Corp.  Hospital Administrator  (261) 737-3292   \n",
       "24385  FleetBoston Financial Co.    Compensation Analyst  (989) 239-1752   \n",
       "\n",
       "        postal province             cc_no   cc_exp   cc_type  price(CAD)  \\\n",
       "76     X3S 4Q2       PE  6010000000000000  04/2018      Visa       100.0   \n",
       "21093  X0S 1O5       PE   201000000000000  03/2024       JCB       100.0   \n",
       "24385  V8X 9V6       NB  6300000000000000  07/2019  Bankcard       100.0   \n",
       "\n",
       "      fav_color             ip    weekday ampm        date  \n",
       "76        Green  212.100.18.95     Monday   am  10/23/2063  \n",
       "21093     Green  168.48.19.165  Wednesday   pm  03/28/1955  \n",
       "24385      Blue   140.87.99.78   Saturday   pm  03/03/1983  "
      ]
     },
     "execution_count": 14,
     "metadata": {},
     "output_type": "execute_result"
    }
   ],
   "source": [
    "cust[cust['price(CAD)'] >= 100]"
   ]
  },
  {
   "cell_type": "markdown",
   "id": "b47ffafb-5d4b-4170-adc7-923033ea1caa",
   "metadata": {},
   "source": [
    "## 11. How many emails are associated with this credit card number '5020000000000230'?"
   ]
  },
  {
   "cell_type": "code",
   "execution_count": 15,
   "id": "7cde2c65-2045-4b5f-b954-e823a7ad5e8f",
   "metadata": {},
   "outputs": [
    {
     "data": {
      "text/plain": [
       "0    sebvajom@kol.km\n",
       "1      acu@jatsot.ug\n",
       "Name: email, dtype: object"
      ]
     },
     "execution_count": 15,
     "metadata": {},
     "output_type": "execute_result"
    }
   ],
   "source": [
    "cust[cust['cc_no'] == 5020000000000230]['email']"
   ]
  },
  {
   "cell_type": "markdown",
   "id": "8ad1606b-a98e-4a9a-b3f8-d94ab9760dad",
   "metadata": {},
   "source": [
    "## 12. We need to send new cards to the customers well before they expire. How many cards are expiring in 2019?"
   ]
  },
  {
   "cell_type": "code",
   "execution_count": 16,
   "id": "d9ff40ad-f36b-4e56-a9b7-ac1c10815c62",
   "metadata": {},
   "outputs": [
    {
     "data": {
      "text/plain": [
       "2684"
      ]
     },
     "execution_count": 16,
     "metadata": {},
     "output_type": "execute_result"
    }
   ],
   "source": [
    "cust[cust['cc_exp'].apply(lambda x: x[5:]) == '19'].shape[0]"
   ]
  },
  {
   "cell_type": "markdown",
   "id": "8fbfa2c6-d7f9-4691-bba4-5e63fab0105b",
   "metadata": {},
   "source": [
    "## 13. How many people use Visa as their Credit Card Provider?"
   ]
  },
  {
   "cell_type": "code",
   "execution_count": 17,
   "id": "407f30f7-6d45-4ca7-bf9c-4884ecd2705f",
   "metadata": {},
   "outputs": [
    {
     "data": {
      "text/plain": [
       "1721"
      ]
     },
     "execution_count": 17,
     "metadata": {},
     "output_type": "execute_result"
    }
   ],
   "source": [
    "cust[cust['cc_type'] == 'Visa'].shape[0]"
   ]
  },
  {
   "cell_type": "markdown",
   "id": "db5ac7e2-2bde-41e2-83a0-d0fd311e7dc9",
   "metadata": {},
   "source": [
    "## 14. Can you find the customer who spent 100 CAD using Visa?"
   ]
  },
  {
   "cell_type": "code",
   "execution_count": 18,
   "id": "bca9977a-d11e-4e85-a8cb-3ca90f6ea770",
   "metadata": {},
   "outputs": [
    {
     "data": {
      "text/html": [
       "<div>\n",
       "<style scoped>\n",
       "    .dataframe tbody tr th:only-of-type {\n",
       "        vertical-align: middle;\n",
       "    }\n",
       "\n",
       "    .dataframe tbody tr th {\n",
       "        vertical-align: top;\n",
       "    }\n",
       "\n",
       "    .dataframe thead th {\n",
       "        text-align: right;\n",
       "    }\n",
       "</style>\n",
       "<table border=\"1\" class=\"dataframe\">\n",
       "  <thead>\n",
       "    <tr style=\"text-align: right;\">\n",
       "      <th></th>\n",
       "      <th>prefix</th>\n",
       "      <th>first</th>\n",
       "      <th>last</th>\n",
       "      <th>email</th>\n",
       "      <th>gender</th>\n",
       "      <th>age</th>\n",
       "      <th>company</th>\n",
       "      <th>profession</th>\n",
       "      <th>phone</th>\n",
       "      <th>postal</th>\n",
       "      <th>province</th>\n",
       "      <th>cc_no</th>\n",
       "      <th>cc_exp</th>\n",
       "      <th>cc_type</th>\n",
       "      <th>price(CAD)</th>\n",
       "      <th>fav_color</th>\n",
       "      <th>ip</th>\n",
       "      <th>weekday</th>\n",
       "      <th>ampm</th>\n",
       "      <th>date</th>\n",
       "    </tr>\n",
       "  </thead>\n",
       "  <tbody>\n",
       "    <tr>\n",
       "      <th>76</th>\n",
       "      <td>Mrs.</td>\n",
       "      <td>Gregory</td>\n",
       "      <td>Brown</td>\n",
       "      <td>hav@jek.gs</td>\n",
       "      <td>Female</td>\n",
       "      <td>31</td>\n",
       "      <td>E*Trade Group, Inc.</td>\n",
       "      <td>Novelist</td>\n",
       "      <td>(625) 537-8923</td>\n",
       "      <td>X3S 4Q2</td>\n",
       "      <td>PE</td>\n",
       "      <td>6010000000000000</td>\n",
       "      <td>04/2018</td>\n",
       "      <td>Visa</td>\n",
       "      <td>100.0</td>\n",
       "      <td>Green</td>\n",
       "      <td>212.100.18.95</td>\n",
       "      <td>Monday</td>\n",
       "      <td>am</td>\n",
       "      <td>10/23/2063</td>\n",
       "    </tr>\n",
       "  </tbody>\n",
       "</table>\n",
       "</div>"
      ],
      "text/plain": [
       "   prefix    first   last       email  gender  age              company  \\\n",
       "76   Mrs.  Gregory  Brown  hav@jek.gs  Female   31  E*Trade Group, Inc.   \n",
       "\n",
       "   profession           phone   postal province             cc_no   cc_exp  \\\n",
       "76   Novelist  (625) 537-8923  X3S 4Q2       PE  6010000000000000  04/2018   \n",
       "\n",
       "   cc_type  price(CAD) fav_color             ip weekday ampm        date  \n",
       "76    Visa       100.0     Green  212.100.18.95  Monday   am  10/23/2063  "
      ]
     },
     "execution_count": 18,
     "metadata": {},
     "output_type": "execute_result"
    }
   ],
   "source": [
    "cust[(cust['price(CAD)'] == 100) & (cust['cc_type'] == 'Visa')]"
   ]
  },
  {
   "cell_type": "markdown",
   "id": "22c95964-9128-435c-aee5-8f9fc3bd3e57",
   "metadata": {},
   "source": [
    "## 15. What are the two most common professions?"
   ]
  },
  {
   "cell_type": "code",
   "execution_count": 19,
   "id": "4f0e3ffa-6918-4d00-8dab-ec014e6dc980",
   "metadata": {},
   "outputs": [
    {
     "data": {
      "text/plain": [
       "profession\n",
       "Preschool Teacher       112\n",
       "Distribution Manager    107\n",
       "Name: count, dtype: int64"
      ]
     },
     "execution_count": 19,
     "metadata": {},
     "output_type": "execute_result"
    }
   ],
   "source": [
    "cust['profession'].value_counts().head(2)"
   ]
  },
  {
   "cell_type": "markdown",
   "id": "3ec39d74-9ada-4382-8c2a-3744ac8f006b",
   "metadata": {},
   "source": [
    "## 16. Can you tell the top 5 most popular email providers?"
   ]
  },
  {
   "cell_type": "code",
   "execution_count": 20,
   "id": "cd9385e3-efc3-49fb-9341-5a7922173308",
   "metadata": {},
   "outputs": [
    {
     "data": {
      "text/plain": [
       "email\n",
       "gmail.com      1687\n",
       "me.com         1676\n",
       "outlook.com    1664\n",
       "live.com       1660\n",
       "hotmail.com    1659\n",
       "Name: count, dtype: int64"
      ]
     },
     "execution_count": 20,
     "metadata": {},
     "output_type": "execute_result"
    }
   ],
   "source": [
    "cust['email'].apply(lambda x: x.split('@')[1]).value_counts().head(5)"
   ]
  },
  {
   "cell_type": "markdown",
   "id": "9d1372c6-18b3-448c-9b82-fbbcf67158f6",
   "metadata": {},
   "source": [
    "## 17. Is there any customer who is using an email with \"am.edu\"?"
   ]
  },
  {
   "cell_type": "code",
   "execution_count": 21,
   "id": "126790d5-41ff-41fb-a48e-9b3feb3cb673",
   "metadata": {},
   "outputs": [
    {
     "data": {
      "text/html": [
       "<div>\n",
       "<style scoped>\n",
       "    .dataframe tbody tr th:only-of-type {\n",
       "        vertical-align: middle;\n",
       "    }\n",
       "\n",
       "    .dataframe tbody tr th {\n",
       "        vertical-align: top;\n",
       "    }\n",
       "\n",
       "    .dataframe thead th {\n",
       "        text-align: right;\n",
       "    }\n",
       "</style>\n",
       "<table border=\"1\" class=\"dataframe\">\n",
       "  <thead>\n",
       "    <tr style=\"text-align: right;\">\n",
       "      <th></th>\n",
       "      <th>prefix</th>\n",
       "      <th>first</th>\n",
       "      <th>last</th>\n",
       "      <th>email</th>\n",
       "      <th>gender</th>\n",
       "      <th>age</th>\n",
       "      <th>company</th>\n",
       "      <th>profession</th>\n",
       "      <th>phone</th>\n",
       "      <th>postal</th>\n",
       "      <th>province</th>\n",
       "      <th>cc_no</th>\n",
       "      <th>cc_exp</th>\n",
       "      <th>cc_type</th>\n",
       "      <th>price(CAD)</th>\n",
       "      <th>fav_color</th>\n",
       "      <th>ip</th>\n",
       "      <th>weekday</th>\n",
       "      <th>ampm</th>\n",
       "      <th>date</th>\n",
       "    </tr>\n",
       "  </thead>\n",
       "  <tbody>\n",
       "    <tr>\n",
       "      <th>150</th>\n",
       "      <td>Miss</td>\n",
       "      <td>Loretta</td>\n",
       "      <td>Fletcher</td>\n",
       "      <td>barit@am.edu</td>\n",
       "      <td>Female</td>\n",
       "      <td>48</td>\n",
       "      <td>York International Corp</td>\n",
       "      <td>Rehabilitation Counselor</td>\n",
       "      <td>(323) 279-8038</td>\n",
       "      <td>E5X 8L0</td>\n",
       "      <td>QC</td>\n",
       "      <td>6330000000000000</td>\n",
       "      <td>05/2021</td>\n",
       "      <td>Diners Club United States &amp; Canada</td>\n",
       "      <td>97.26</td>\n",
       "      <td>White</td>\n",
       "      <td>147.57.240.225</td>\n",
       "      <td>Monday</td>\n",
       "      <td>am</td>\n",
       "      <td>11/07/2066</td>\n",
       "    </tr>\n",
       "  </tbody>\n",
       "</table>\n",
       "</div>"
      ],
      "text/plain": [
       "    prefix    first      last         email  gender  age  \\\n",
       "150   Miss  Loretta  Fletcher  barit@am.edu  Female   48   \n",
       "\n",
       "                     company                profession           phone  \\\n",
       "150  York International Corp  Rehabilitation Counselor  (323) 279-8038   \n",
       "\n",
       "      postal province             cc_no   cc_exp  \\\n",
       "150  E5X 8L0       QC  6330000000000000  05/2021   \n",
       "\n",
       "                                cc_type  price(CAD) fav_color              ip  \\\n",
       "150  Diners Club United States & Canada       97.26     White  147.57.240.225   \n",
       "\n",
       "    weekday ampm        date  \n",
       "150  Monday   am  11/07/2066  "
      ]
     },
     "execution_count": 21,
     "metadata": {},
     "output_type": "execute_result"
    }
   ],
   "source": [
    "cust[cust['email'].apply(lambda x: x.split('@')[1] == 'am.edu')]"
   ]
  },
  {
   "cell_type": "markdown",
   "id": "6b68372a-6f8b-4b63-a36d-ec2cfa0057eb",
   "metadata": {},
   "source": [
    "## 18. Which day of the week does the store get more customers?"
   ]
  },
  {
   "cell_type": "code",
   "execution_count": 22,
   "id": "d9471af1-f3e3-4fc2-8ee9-c1492dae8dd2",
   "metadata": {},
   "outputs": [
    {
     "data": {
      "text/plain": [
       "weekday\n",
       "Saturday     4376\n",
       "Wednesday    4365\n",
       "Thursday     4327\n",
       "Friday       4316\n",
       "Monday       4216\n",
       "Sunday       4213\n",
       "Tuesday      4187\n",
       "Name: count, dtype: int64"
      ]
     },
     "execution_count": 22,
     "metadata": {},
     "output_type": "execute_result"
    }
   ],
   "source": [
    "cust['weekday'].value_counts()"
   ]
  },
  {
   "cell_type": "markdown",
   "id": "919586a7-c635-42f7-82a4-1623c0a8cfd3",
   "metadata": {},
   "source": [
    "## End of question-answers."
   ]
  }
 ],
 "metadata": {
  "kernelspec": {
   "display_name": "Python 3 (ipykernel)",
   "language": "python",
   "name": "python3"
  },
  "language_info": {
   "codemirror_mode": {
    "name": "ipython",
    "version": 3
   },
   "file_extension": ".py",
   "mimetype": "text/x-python",
   "name": "python",
   "nbconvert_exporter": "python",
   "pygments_lexer": "ipython3",
   "version": "3.12.7"
  }
 },
 "nbformat": 4,
 "nbformat_minor": 5
}
